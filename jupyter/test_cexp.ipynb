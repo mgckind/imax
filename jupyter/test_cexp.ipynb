{
 "cells": [
  {
   "cell_type": "code",
   "execution_count": 1,
   "metadata": {},
   "outputs": [],
   "source": [
    "from ipywidgets import Label, widgets, interact, Button, Layout\n",
    "import ipyleaflet as ilf\n",
    "import ipywidgets as iwg\n",
    "import requests\n",
    "import numpy as np\n",
    "from ipyevents import Event\n",
    "from sidecar import Sidecar"
   ]
  },
  {
   "cell_type": "code",
   "execution_count": 2,
   "metadata": {},
   "outputs": [],
   "source": [
    "def latlon_to_xy(lat, lon, factor=8):\n",
    "    return int(np.floor(lon/factor)), int(np.floor(-lat/factor))\n",
    "def xy_to_latlon(x,y, factor=8):\n",
    "    return -y*factor, x*factor\n",
    "def create_selected_polygon(xx,yy):\n",
    "    c1 = (xy_to_latlon(xx, yy))\n",
    "    c2 = (xy_to_latlon(xx+1, yy))\n",
    "    c3 = (xy_to_latlon(xx+1, yy+1))\n",
    "    c4 = (xy_to_latlon(xx, yy+1))\n",
    "    temp = ilf.Polygon(\n",
    "        name=\"selected\",\n",
    "        locations=[c1,c2,c3,c4],\n",
    "        color=\"green\",\n",
    "        fill_opacity = 0.05,\n",
    "        weight = 2,\n",
    "        fill_color=\"green\"\n",
    "    )\n",
    "    return temp"
   ]
  },
  {
   "cell_type": "code",
   "execution_count": 3,
   "metadata": {},
   "outputs": [
    {
     "data": {
      "text/plain": [
       "''"
      ]
     },
     "execution_count": 3,
     "metadata": {},
     "output_type": "execute_result"
    }
   ],
   "source": [
    "username = 'jlab'\n",
    "r = requests.get(\"http://localhost:8889/initdb\", params = {'user': username})\n",
    "r.text"
   ]
  },
  {
   "cell_type": "code",
   "execution_count": 4,
   "metadata": {},
   "outputs": [],
   "source": [
    "def cntr(change):\n",
    "    old = change['old']\n",
    "    new = change['new']\n",
    "    yc , xc = new\n",
    "    hh = float(m.layout.height.split('px')[0])\n",
    "    ww = float(m.layout.width.split('px')[0])\n",
    "    max_yc = -hh/(2**(m.zoom+1))\n",
    "    min_xc = ww/(2**(m.zoom+1))\n",
    "    max_xc = 30*8 - ww/(2**(m.zoom+1))\n",
    "    min_yc = -(20*8 - hh/(2**(m.zoom+1)))    \n",
    "    myc = min(yc, max_yc)\n",
    "    myc = max(myc, min_yc)\n",
    "    mxc = max(xc, min_xc)\n",
    "    mxc = min(mxc, max_xc)\n",
    "    m.center = [myc, mxc] \n",
    "    #msg.value ='{} -> {}'.format(str(old), str(new))\n",
    "def handle_event(event):\n",
    "    x = int(vx.value)\n",
    "    y = int(vy.value)\n",
    "    z = int(vz.value)\n",
    "    nx = x\n",
    "    ny = y\n",
    "    scy = 0\n",
    "    scx = 0\n",
    "    if event['key'] =='w':\n",
    "        ny = y-1\n",
    "        scy = 2\n",
    "    if event['key'] =='s':\n",
    "        ny = y+1\n",
    "        scy = -2\n",
    "    if event['key'] =='d':\n",
    "        nx = x+1\n",
    "        scx = 2\n",
    "    if event['key'] =='a':\n",
    "        nx = x-1\n",
    "        scx = -2\n",
    "    if event['key'] in ('w','a','s','d'):\n",
    "        for l in m.layers:\n",
    "            if isinstance(l, ilf.Polygon):\n",
    "                if l.name == 'selected':\n",
    "                    m.remove_layer(l)\n",
    "        nx = max(nx,0)\n",
    "        nx = min(nx,29)\n",
    "        ny = max(ny,0)\n",
    "        ny = min(ny,16)\n",
    "        vy.value = str(ny)\n",
    "        vx.value = str(nx)\n",
    "        polygon = create_selected_polygon(nx,ny)\n",
    "        m.add_layer(polygon)\n",
    "        label.value = 'vx={} , vy ={}, z={}'.format(x, y, z)\n",
    "        r = requests.get(\"http://localhost:8889/info\", params = {'user': username, 'x':nx, 'y':ny})\n",
    "        info.value = r.text\n",
    "        yc , xc = m.center\n",
    "        hh = float(m.layout.height.split('px')[0])\n",
    "        ww = float(m.layout.width.split('px')[0])\n",
    "        max_yc = -hh/(2**(m.zoom+1))\n",
    "        min_xc = ww/(2**(m.zoom+1))\n",
    "        max_xc = 30*8 - ww/(2**(m.zoom+1))\n",
    "        min_yc = -(20*8 - hh/(2**(m.zoom+1)))    \n",
    "        myc = min(yc+scy, max_yc)\n",
    "        myc = max(myc, min_yc)\n",
    "        mxc = max(xc+scx, min_xc)\n",
    "        mxc = min(mxc, max_xc)\n",
    "        m.center = [myc, mxc] "
   ]
  },
  {
   "cell_type": "code",
   "execution_count": 5,
   "metadata": {},
   "outputs": [],
   "source": [
    "vx = widgets.Text()\n",
    "vy = widgets.Text()\n",
    "vz = widgets.Text()\n",
    "label = Label()\n",
    "info = Label()\n",
    "def handle_interaction(**kwargs):\n",
    "    #temp = ','.join('{0}={1!r}'.format(k,v) for k,v in kwargs.items())\n",
    "    #label.value = temp\n",
    "    #if kwargs.get('type') == 'keypress':\n",
    "    #    label = 'key!'\n",
    "    if kwargs.get('type') == 'dblclick':\n",
    "        lat, lon = kwargs.get('coordinates')\n",
    "        x,y = latlon_to_xy(lat,lon) \n",
    "        zoom = m.zoom\n",
    "        vx.value = str(x)\n",
    "        vy.value = str(y)\n",
    "        vz.value = str(zoom)\n",
    "        for l in m.layers:\n",
    "            if isinstance(l, ilf.Polygon):\n",
    "                if l.name == 'selected':\n",
    "                    m.remove_layer(l)\n",
    "        polygon = create_selected_polygon(x,y)\n",
    "        m.add_layer(polygon)\n",
    "        label.value = 'vx={} , vy ={}, z={}'.format(x, y, zoom)\n",
    "        r = requests.get(\"http://localhost:8889/info\", params = {'user': username, 'x':x, 'y':y})\n",
    "        info.value = r.text"
   ]
  },
  {
   "cell_type": "code",
   "execution_count": 6,
   "metadata": {},
   "outputs": [],
   "source": [
    "width = 640\n",
    "height = 400\n",
    "min_zoom = 3\n",
    "max_zoom = 6\n",
    "size_min_zoom = 2**(min_zoom+1)\n",
    "center=[-height/size_min_zoom,width/size_min_zoom]\n",
    "images_url = ('http://localhost:8889/?x={x}&y={y}&z={z}&inv=0')\n",
    "L = ilf.TileLayer(crs=ilf.projections.Simple, url=images_url,inv=0, tile_size=256, dragging=True, no_wrap=True)\n",
    "m = ilf.Map(layers=(L,), crs=ilf.projections.Simple,zoom=min_zoom, center=center, scroll_wheel_zoom=True, \n",
    "        double_click_zoom= False, bounce_at_zoom_limits=True, min_zoom=min_zoom, \n",
    "        max_zoom=max_zoom,attribution_control=False, keyboard=True )\n",
    "control = ilf.FullScreenControl()\n",
    "m.add_control(control)\n",
    "m.layout.width = '{}px'.format(width)\n",
    "m.layout.height = '{}px'.format(height)"
   ]
  },
  {
   "cell_type": "code",
   "execution_count": 7,
   "metadata": {},
   "outputs": [
    {
     "data": {
      "application/vnd.jupyter.widget-view+json": {
       "model_id": "7168000b1d314babbea1fa0b3639172f",
       "version_major": 2,
       "version_minor": 0
      },
      "text/plain": [
       "Label(value='')"
      ]
     },
     "metadata": {},
     "output_type": "display_data"
    },
    {
     "data": {
      "application/vnd.jupyter.widget-view+json": {
       "model_id": "e2652634c32d4428b4fea0d9545148d5",
       "version_major": 2,
       "version_minor": 0
      },
      "text/plain": [
       "Label(value='')"
      ]
     },
     "metadata": {},
     "output_type": "display_data"
    },
    {
     "data": {
      "application/vnd.jupyter.widget-view+json": {
       "model_id": "1ce6756e11b345c7a835a1af6073689f",
       "version_major": 2,
       "version_minor": 0
      },
      "text/plain": [
       "Map(center=[-25.0, 40.0], controls=(ZoomControl(options=['position', 'zoom_in_text', 'zoom_in_title', 'zoom_ou…"
      ]
     },
     "metadata": {},
     "output_type": "display_data"
    }
   ],
   "source": [
    "display(label, info)\n",
    "dd = Event(source=m, watched_events=['keydown']) #need to add map move\n",
    "m.on_interaction(handle_interaction)\n",
    "dd.on_dom_event(handle_event)\n",
    "m.observe(cntr,names='center')\n",
    "display(m)\n",
    "#sc = Sidecar(title='Map')\n",
    "#with sc:\n",
    "#    display(m)"
   ]
  },
  {
   "cell_type": "code",
   "execution_count": 9,
   "metadata": {},
   "outputs": [],
   "source": [
    "#help(sc)"
   ]
  },
  {
   "cell_type": "code",
   "execution_count": 10,
   "metadata": {},
   "outputs": [],
   "source": [
    "btn = Button(description='inv', layout=Layout(width='30px'))\n",
    "widget_control = ilf.WidgetControl(widget=btn, position='topleft', name='inv')\n",
    "m.add_control(widget_control)\n",
    "def on_button_clicked(b):\n",
    "    im_url = L.url\n",
    "    st = int(im_url.split('inv=')[1])\n",
    "    L.url = im_url.replace('inv={}'.format(st),'inv={}'.format(st^1))\n",
    "btn.on_click(on_button_clicked)"
   ]
  },
  {
   "cell_type": "code",
   "execution_count": 13,
   "metadata": {},
   "outputs": [],
   "source": [
    "m.remove_control(widget_control)"
   ]
  },
  {
   "cell_type": "code",
   "execution_count": 14,
   "metadata": {},
   "outputs": [],
   "source": [
    "left = L\n",
    "images_url_2 = ('http://localhost:8889/?x={x}&y={y}&z={z}&inv=1')\n",
    "R = ilf.TileLayer(crs=\"Simple\", url=images_url_2,inv=1, tile_size=256, dragging=True, no_wrap=True)\n",
    "right = R\n",
    "control = ilf.SplitMapControl(left_layer=left, right_layer=right)\n",
    "m.add_control(control)"
   ]
  },
  {
   "cell_type": "code",
   "execution_count": 8,
   "metadata": {},
   "outputs": [],
   "source": []
  },
  {
   "cell_type": "code",
   "execution_count": null,
   "metadata": {},
   "outputs": [],
   "source": []
  }
 ],
 "metadata": {
  "kernelspec": {
   "display_name": "Python 3",
   "language": "python",
   "name": "python3"
  },
  "language_info": {
   "codemirror_mode": {
    "name": "ipython",
    "version": 3
   },
   "file_extension": ".py",
   "mimetype": "text/x-python",
   "name": "python",
   "nbconvert_exporter": "python",
   "pygments_lexer": "ipython3",
   "version": "3.8.3"
  }
 },
 "nbformat": 4,
 "nbformat_minor": 4
}
