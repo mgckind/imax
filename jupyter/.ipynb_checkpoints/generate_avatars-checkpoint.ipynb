{
 "cells": [
  {
   "cell_type": "markdown",
   "id": "06921e43-5128-4e2d-bace-40698ef08aa4",
   "metadata": {},
   "source": [
    "## Code to generate random avatar images for testing\n",
    "\n",
    "Avatar generator code taken from:\n",
    "https://github.com/ibonn/python_avatars\n"
   ]
  },
  {
   "cell_type": "code",
   "execution_count": 2,
   "id": "925b0d71-abd6-4f1a-96bb-3eff483e9f8b",
   "metadata": {},
   "outputs": [],
   "source": [
    "import python_avatars as pa\n",
    "import matplotlib.pyplot as plt\n",
    "from PIL import Image, ImageDraw, ImageFont\n",
    "import numpy as np\n",
    "import PIL.ImageOps\n",
    "import cairosvg\n",
    "import os\n",
    "import sqlite3\n",
    "import glob\n",
    "import random"
   ]
  },
  {
   "cell_type": "code",
   "execution_count": 3,
   "id": "d7ce9e64-f024-4797-8dda-fefea361f279",
   "metadata": {},
   "outputs": [],
   "source": [
    "## get color from a given colormap\n",
    "def get_cmap(n, name='summer'):\n",
    "    return plt.cm.get_cmap(name, n)"
   ]
  },
  {
   "cell_type": "code",
   "execution_count": 4,
   "id": "b531bd21-e9f1-486b-9035-0459baff7693",
   "metadata": {},
   "outputs": [
    {
     "data": {
      "image/png": "[encoded data removed]",
      "text/plain": [
       "<PIL.PngImagePlugin.PngImageFile image mode=RGBA size=264x280>"
      ]
     },
     "execution_count": 4,
     "metadata": {},
     "output_type": "execute_result"
    }
   ],
   "source": [
    "# Completely random avatar\n",
    "random_avatar_1 = pa.Avatar.random(style=pa.AvatarStyle.TRANSPARENT,background_color=pa.BackgroundColor.WHITE)\n",
    "_=random_avatar_1.render(\"test.svg\")\n",
    "cairosvg.svg2png(url=\"test.svg\", write_to=\"test.png\")\n",
    "im = PIL.Image.open(\"test.png\")\n",
    "os.remove(\"test.svg\")\n",
    "os.remove(\"test.png\")\n",
    "im"
   ]
  },
  {
   "cell_type": "code",
   "execution_count": 5,
   "id": "b64e7cbd-7205-4fc4-8d2d-af9be95ce46b",
   "metadata": {},
   "outputs": [
    {
     "data": {
      "image/png": "[encoded data removed]",
      "text/plain": [
       "<PIL.Image.Image image mode=RGBA size=128x128>"
      ]
     },
     "execution_count": 5,
     "metadata": {},
     "output_type": "execute_result"
    }
   ],
   "source": [
    "# Resize, add background and custom unumber\n",
    "im = im.resize((128,128)).convert(\"RGBA\")\n",
    "img = Image.new('RGBA', (128, 128), color = 'red')\n",
    "d = ImageDraw.Draw(img)\n",
    "d.text((5,5), \"{}\".format(55), fill=(0,0,0))\n",
    "img.paste(im, (0, 0), im)\n",
    "img"
   ]
  },
  {
   "cell_type": "code",
   "execution_count": 6,
   "id": "159110da-c186-46b0-8c27-6ae3b0c34062",
   "metadata": {},
   "outputs": [],
   "source": [
    "# Select number of avatars and number of color bins\n",
    "Nimages = 1200\n",
    "cmap = get_cmap(Nimages)"
   ]
  },
  {
   "cell_type": "code",
   "execution_count": 7,
   "id": "f78869c5-e656-4dca-a07e-0dace99bf810",
   "metadata": {},
   "outputs": [],
   "source": [
    "if not os.path.exists('images'):\n",
    "    os.mkdir('images')\n",
    "else:\n",
    "    pass"
   ]
  },
  {
   "cell_type": "code",
   "execution_count": 8,
   "id": "14defc9f-416a-4d0a-9235-c3a1b6278ae4",
   "metadata": {},
   "outputs": [],
   "source": [
    "# For loop\n",
    "chunk = []\n",
    "for i in range(Nimages):\n",
    "    random_avatar = pa.Avatar.random(style=pa.AvatarStyle.TRANSPARENT,background_color=pa.BackgroundColor.WHITE)\n",
    "    _ = random_avatar.render(\"test.svg\")\n",
    "    cairosvg.svg2png(url=\"test.svg\", write_to=\"test.png\")\n",
    "    im = PIL.Image.open(\"test.png\")\n",
    "    im = im.resize((128,128)).convert(\"RGBA\")\n",
    "    #cidx = np.random.randint(0,Nmap,1)[0]\n",
    "    cidx = i\n",
    "    temp = [int(j*255) for j in cmap(cidx)]\n",
    "    img = Image.new('RGBA', (128, 128), color = tuple(temp))\n",
    "    img.paste(im, (0, 0), im)\n",
    "    d = ImageDraw.Draw(img)\n",
    "    d.text((5,5), \"{}\".format(i+1), fill=(0,0,0))\n",
    "    name = 'images/{:05}.png'.format(i+1)\n",
    "    img.save(name)\n",
    "    class0 = np.random.choice([-1,8,9])\n",
    "    xx = np.random.randn()\n",
    "    chunk.append((name,int(class0),xx))\n",
    "os.remove(\"test.svg\")\n",
    "os.remove(\"test.png\")"
   ]
  },
  {
   "cell_type": "markdown",
   "id": "b6e1c4a2-0a63-420e-b690-87b48e5c0e28",
   "metadata": {},
   "source": [
    "## Add names and classes to a db file"
   ]
  },
  {
   "cell_type": "code",
   "execution_count": 1,
   "id": "b9368d73-2d12-442a-bbf4-7c9f6d784d99",
   "metadata": {},
   "outputs": [
    {
     "ename": "NameError",
     "evalue": "name 'sqlite3' is not defined",
     "output_type": "error",
     "traceback": [
      "\u001b[0;31m---------------------------------------------------------------------------\u001b[0m",
      "\u001b[0;31mNameError\u001b[0m                                 Traceback (most recent call last)",
      "Input \u001b[0;32mIn [1]\u001b[0m, in \u001b[0;36m<cell line: 1>\u001b[0;34m()\u001b[0m\n\u001b[0;32m----> 1\u001b[0m conn \u001b[38;5;241m=\u001b[39m \u001b[43msqlite3\u001b[49m\u001b[38;5;241m.\u001b[39mconnect(\u001b[38;5;124m'\u001b[39m\u001b[38;5;124mexternal.db\u001b[39m\u001b[38;5;124m'\u001b[39m)\n\u001b[1;32m      2\u001b[0m c \u001b[38;5;241m=\u001b[39m conn\u001b[38;5;241m.\u001b[39mcursor()\n",
      "\u001b[0;31mNameError\u001b[0m: name 'sqlite3' is not defined"
     ]
    }
   ],
   "source": [
    "conn = sqlite3.connect('external.db')\n",
    "c = conn.cursor()\n",
    "c.execute('create table if not exists META (name text, class int, xx float)')\n",
    "c.executemany('insert or replace into META VALUES (?,?,?)', chunk)\n",
    "conn.commit()\n",
    "conn.close()"
   ]
  },
  {
   "cell_type": "code",
   "execution_count": null,
   "id": "a91f7b64-4ea4-45de-b97a-d565c7b4587d",
   "metadata": {},
   "outputs": [],
   "source": []
  }
 ],
 "metadata": {
  "kernelspec": {
   "display_name": "Python 3 (ipykernel)",
   "language": "python",
   "name": "python3"
  },
  "language_info": {
   "codemirror_mode": {
    "name": "ipython",
    "version": 3
   },
   "file_extension": ".py",
   "mimetype": "text/x-python",
   "name": "python",
   "nbconvert_exporter": "python",
   "pygments_lexer": "ipython3",
   "version": "3.10.4"
  }
 },
 "nbformat": 4,
 "nbformat_minor": 5
}
