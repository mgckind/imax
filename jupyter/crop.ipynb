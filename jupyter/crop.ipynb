{
 "cells": [
  {
   "cell_type": "code",
   "execution_count": 4,
   "metadata": {},
   "outputs": [],
   "source": [
    "import os\n",
    "import numpy as np\n",
    "from PIL import Image\n",
    "import shutil\n"
   ]
  },
  {
   "cell_type": "code",
   "execution_count": 7,
   "metadata": {},
   "outputs": [],
   "source": [
    "def crop(path, input, size):\n",
    "    try:\n",
    "        shutil.rmtree(path)\n",
    "    except:\n",
    "        pass\n",
    "    if not os.path.exists(path):\n",
    "        os.mkdir(path)\n",
    "    else:\n",
    "        pass\n",
    "    im = Image.open(input)\n",
    "    imgwidth, imgheight = im.size\n",
    "    print('Original size {} x {}'.format(imgwidth, imgheight))\n",
    "    k = 0\n",
    "    for i in range(0,imgheight,size):\n",
    "        for j in range(0,imgwidth,size):\n",
    "            box = (j, i, j+size, i+size)\n",
    "            a = Image.new('RGB', (size, size), \"#dddddd\")\n",
    "            a.paste(im, (-j, -i))\n",
    "            #a = im.crop(box)\n",
    "            if np.shape(a) != (size,size,3):\n",
    "                print(np.shape(a))\n",
    "            a.save(os.path.join(path,\"{:05}.png\".format(k)))\n",
    "            #try:\n",
    "            ##    #o = a.crop(area)\n",
    "            #    a.save(os.path.join(path,\"PNG\",\"%s\" % page,\"IMG-%s.png\" % k))\n",
    "            #except:\n",
    "            #    print('a')\n",
    "            #    pass\n",
    "            k +=1\n",
    "    print('Final X size {}, number of X tiles {}'.format(j+size,(j+size)/size))\n",
    "    print('Final Y size {}, number of Y tiles {}'.format(i+size,(i+size)/size))\n",
    "    print('Number of images {}'.format(k))\n",
    "\n",
    "    "
   ]
  },
  {
   "cell_type": "code",
   "execution_count": 9,
   "metadata": {},
   "outputs": [
    {
     "name": "stdout",
     "output_type": "stream",
     "text": [
      "Original size 6000 x 4800\n",
      "Final X size 6016, number of X tiles 94.0\n",
      "Final Y size 4800, number of Y tiles 75.0\n",
      "Number of images 7050\n"
     ]
    }
   ],
   "source": [
    "crop('pixs/','ps58_16x20.jpg',64)"
   ]
  },
  {
   "cell_type": "code",
   "execution_count": null,
   "metadata": {},
   "outputs": [],
   "source": []
  },
  {
   "cell_type": "code",
   "execution_count": null,
   "metadata": {},
   "outputs": [],
   "source": []
  }
 ],
 "metadata": {
  "kernelspec": {
   "display_name": "Python 3 (ipykernel)",
   "language": "python",
   "name": "python3"
  },
  "language_info": {
   "codemirror_mode": {
    "name": "ipython",
    "version": 3
   },
   "file_extension": ".py",
   "mimetype": "text/x-python",
   "name": "python",
   "nbconvert_exporter": "python",
   "pygments_lexer": "ipython3",
   "version": "3.10.4"
  }
 },
 "nbformat": 4,
 "nbformat_minor": 4
}
